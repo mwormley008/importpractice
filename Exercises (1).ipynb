{
 "cells": [
  {
   "cell_type": "markdown",
   "metadata": {},
   "source": [
    "#### Exercise 1 - Class Inheritance"
   ]
  },
  {
   "cell_type": "markdown",
   "metadata": {},
   "source": [
    "Create an Employee class that sets an employee's first name, last name, job title, salary, and email. The Employee class should have a class attribute for the raise amount set to 5% (1.05). Create a method that will apply the raise to an employee's salary."
   ]
  },
  {
   "cell_type": "code",
   "execution_count": 15,
   "metadata": {},
   "outputs": [
    {
     "name": "stdout",
     "output_type": "stream",
     "text": [
      "Congratulations, you received a raise, and your salary is now 105000!\n",
      "None\n"
     ]
    }
   ],
   "source": [
    "class Employee:\n",
    "    raise_amt = 1.05\n",
    "    def __init__(self, first, last, title, salary, email):\n",
    "        self.first = first\n",
    "        self.last = last\n",
    "        self.title = title\n",
    "        self.salary = salary\n",
    "        self.email = email\n",
    "        \n",
    "    def get_raise(self):\n",
    "        self.salary = int(self.salary * 1.05)\n",
    "        print(f\"Congratulations, you received a raise, and your salary is now {self.salary}!\")\n",
    "        \n",
    "emp1 = Employee('Michael', 'Wormley', 'Engineer', 100000, 'mworm@compan.y')\n",
    "emp1.get_raise()"
   ]
  },
  {
   "cell_type": "markdown",
   "metadata": {},
   "source": [
    "Create two more classes that inherit from the Employee class. One for Sales and one for Development. Both of these classes will have the same attributes as the Employee.<br>\n",
    "- For the Sales employees, add a phone number attribute on instantiation using the super method. \n",
    "- Create a method on the Sales class that will Send a Follow Up Email. It should take in a customer name and \"send\" aka print a formatted email \"Dear *customer*, Thank you for your interest in our product. Please let me know if you have any questions. My email is *email* or my phone number is *phone number*. Thanks, *full name*\"\n",
    "- Create a method on the Development class called code that will print out \"*full name* is writing code\"."
   ]
  },
  {
   "cell_type": "code",
   "execution_count": 35,
   "metadata": {},
   "outputs": [
    {
     "name": "stdout",
     "output_type": "stream",
     "text": [
      "Dear Jackle Lord, Thank you for your interest in our product. Please let me know if you have any questions. My email is email@smail.com or my phone number is 81555555. Thanks, John Jacob\n",
      "Jordan Robinson is writing code.\n"
     ]
    }
   ],
   "source": [
    "class Sales(Employee):\n",
    "    def __init__(self, first, last, title, salary, email, phone):\n",
    "        super().__init__(first, last, title, salary, email)\n",
    "        self.phone = phone\n",
    "                         \n",
    "    def send(self, customer):\n",
    "        print(f\"Dear {customer}, Thank you for your interest in our product. Please let me know if you have any questions. My email is {self.email} or my phone number is {self.phone}. Thanks, {self.first} {self.last}\")\n",
    "    \n",
    "emp2 = Sales('John', 'Jacob', 'Sales Manager', 150000, 'email@smail.com', 81555555)\n",
    "emp2.send('Jackle Lord')\n",
    "\n",
    "class Developer(Employee):\n",
    "    def code(self):\n",
    "        print(f\"{self.first} {self.last} is writing code.\")\n",
    "    \n",
    "emp3 = Developer('Jordan', 'Robinson', 'Code Monkey', 20000, 'emaily@email.me')\n",
    "\n",
    "emp3.code()"
   ]
  },
  {
   "cell_type": "markdown",
   "metadata": {},
   "source": [
    "- Create an instance of a Sales Employee with a salary of $50,000.\n",
    "- Send follow up emails to \"Mike O'Neil\" and \"Hannah Stern\"\n",
    "- Give the employee a raise and print the salary"
   ]
  },
  {
   "cell_type": "code",
   "execution_count": 38,
   "metadata": {},
   "outputs": [
    {
     "name": "stdout",
     "output_type": "stream",
     "text": [
      "Dear Mike O'Neil, Thank you for your interest in our product. Please let me know if you have any questions. My email is email@smail.com or my phone number is 81555555. Thanks, Iao Whipple\n",
      "Dear Hannah Stern, Thank you for your interest in our product. Please let me know if you have any questions. My email is email@smail.com or my phone number is 81555555. Thanks, Iao Whipple\n",
      "Congratulations, you received a raise, and your salary is now 52500!\n"
     ]
    }
   ],
   "source": [
    "emp4 = Sales('Iao', 'Whipple', 'Sales Manager', 50000, 'email@smail.com', 81555555)\n",
    "emp4.send(\"Mike O'Neil\")\n",
    "emp4.send(\"Hannah Stern\")\n",
    "emp4.get_raise()"
   ]
  },
  {
   "cell_type": "markdown",
   "metadata": {},
   "source": [
    "- Create an instance of a Development Employee with a salary of $100,000\n",
    "- Write some code with this employee\n",
    "- Give the employee a raise and print the salary"
   ]
  },
  {
   "cell_type": "code",
   "execution_count": 39,
   "metadata": {},
   "outputs": [
    {
     "name": "stdout",
     "output_type": "stream",
     "text": [
      "Matt Dungo is writing code.\n",
      "Congratulations, you received a raise, and your salary is now 105000!\n"
     ]
    }
   ],
   "source": [
    "emp5 = Developer('Matt', 'Dungo', 'Code Monkey', 100000, 'emaily@email.me')\n",
    "emp5.code()\n",
    "emp5.get_raise()"
   ]
  },
  {
   "cell_type": "markdown",
   "metadata": {},
   "source": [
    "#### Exercise 2 - Importing Modules"
   ]
  },
  {
   "cell_type": "markdown",
   "metadata": {},
   "source": [
    "In VS Code, create a module titled `geometry` and add two functions in there. One that will calculate the area of a circle given a radius. The second will find the hypotenuse of a right angle given the two sides. Import the module or the functions from the module and use it to find the answers to the below questions"
   ]
  },
  {
   "cell_type": "markdown",
   "metadata": {},
   "source": [
    "What is the area of a circle with a radius of 7cm?"
   ]
  },
  {
   "cell_type": "code",
   "execution_count": 45,
   "metadata": {},
   "outputs": [
    {
     "name": "stdout",
     "output_type": "stream",
     "text": [
      "153.86\n"
     ]
    }
   ],
   "source": [
    "import geometry\n",
    "\n",
    "print(geometry.area_circle(7))"
   ]
  },
  {
   "cell_type": "markdown",
   "metadata": {},
   "source": [
    "What is the hypotenuse of a right angle with sides of 3in and 4in?"
   ]
  },
  {
   "cell_type": "code",
   "execution_count": 46,
   "metadata": {},
   "outputs": [
    {
     "name": "stdout",
     "output_type": "stream",
     "text": [
      "25\n"
     ]
    }
   ],
   "source": [
    "import geometry\n",
    "\n",
    "print(geometry.hypotenuse(3, 4))"
   ]
  }
 ],
 "metadata": {
  "kernelspec": {
   "display_name": "Python 3 (ipykernel)",
   "language": "python",
   "name": "python3"
  },
  "language_info": {
   "codemirror_mode": {
    "name": "ipython",
    "version": 3
   },
   "file_extension": ".py",
   "mimetype": "text/x-python",
   "name": "python",
   "nbconvert_exporter": "python",
   "pygments_lexer": "ipython3",
   "version": "3.9.13"
  }
 },
 "nbformat": 4,
 "nbformat_minor": 4
}
